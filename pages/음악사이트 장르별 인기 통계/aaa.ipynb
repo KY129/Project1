{
 "cells": [
  {
   "cell_type": "code",
   "execution_count": 23,
   "metadata": {},
   "outputs": [
    {
     "data": {
      "text/html": [
       "<div>\n",
       "<style scoped>\n",
       "    .dataframe tbody tr th:only-of-type {\n",
       "        vertical-align: middle;\n",
       "    }\n",
       "\n",
       "    .dataframe tbody tr th {\n",
       "        vertical-align: top;\n",
       "    }\n",
       "\n",
       "    .dataframe thead th {\n",
       "        text-align: right;\n",
       "    }\n",
       "</style>\n",
       "<table border=\"1\" class=\"dataframe\">\n",
       "  <thead>\n",
       "    <tr style=\"text-align: right;\">\n",
       "      <th></th>\n",
       "    </tr>\n",
       "  </thead>\n",
       "  <tbody>\n",
       "  </tbody>\n",
       "</table>\n",
       "</div>"
      ],
      "text/plain": [
       "Empty DataFrame\n",
       "Columns: []\n",
       "Index: []"
      ]
     },
     "execution_count": 23,
     "metadata": {},
     "output_type": "execute_result"
    }
   ],
   "source": [
    "import requests as req\n",
    "from bs4 import BeautifulSoup as bs\n",
    "import pandas as pd\n",
    "\n",
    "url = \"https://www.melon.com/genre/song_list.htm?gnrCode=GN1900&orderBy=POP\"\n",
    "res = req.get(url)\n",
    "\n",
    "music_data = []\n",
    "\n",
    "if res.status_code == 200:\n",
    "    soup = bs(res.text, \"html.parser\")\n",
    "    trs = soup.select('table tbody tr')  # 예시로 tr 태그를 선택 (웹페이지 구조에 맞게 수정)\n",
    "    \n",
    "    for tr in trs:\n",
    "        song_title = tr.select_one('td div.ellipsis a')  # 곡 제목을 추출 (웹페이지 구조에 맞게 수정)\n",
    "        artist = tr.select_one('td div.ellipsis span')  # 아티스트를 추출 (웹페이지 구조에 맞게 수정)\n",
    "        \n",
    "        if song_title and artist:\n",
    "            music_data.append({\n",
    "                'Song Title': song_title.get_text(strip=True),\n",
    "                'Artist': artist.get_text(strip=True)\n",
    "            })\n",
    "\n",
    "# 데이터를 DataFrame으로 변환\n",
    "df = pd.DataFrame(music_data)\n",
    "\n",
    "df\n",
    "\n"
   ]
  },
  {
   "cell_type": "code",
   "execution_count": 18,
   "metadata": {},
   "outputs": [
    {
     "ename": "TypeError",
     "evalue": "WebDriver.__init__() got an unexpected keyword argument 'executable_path'",
     "output_type": "error",
     "traceback": [
      "\u001b[1;31m---------------------------------------------------------------------------\u001b[0m",
      "\u001b[1;31mTypeError\u001b[0m                                 Traceback (most recent call last)",
      "Cell \u001b[1;32mIn[18], line 13\u001b[0m\n\u001b[0;32m     11\u001b[0m options \u001b[38;5;241m=\u001b[39m webdriver\u001b[38;5;241m.\u001b[39mChromeOptions()\n\u001b[0;32m     12\u001b[0m options\u001b[38;5;241m.\u001b[39madd_argument(\u001b[38;5;124m'\u001b[39m\u001b[38;5;124m--headless\u001b[39m\u001b[38;5;124m'\u001b[39m)  \u001b[38;5;66;03m# 브라우저 UI 없이 실행 (headless 모드)\u001b[39;00m\n\u001b[1;32m---> 13\u001b[0m driver \u001b[38;5;241m=\u001b[39m \u001b[43mwebdriver\u001b[49m\u001b[38;5;241;43m.\u001b[39;49m\u001b[43mChrome\u001b[49m\u001b[43m(\u001b[49m\u001b[43mexecutable_path\u001b[49m\u001b[38;5;241;43m=\u001b[39;49m\u001b[43mdriver_path\u001b[49m\u001b[43m,\u001b[49m\u001b[43m \u001b[49m\u001b[43moptions\u001b[49m\u001b[38;5;241;43m=\u001b[39;49m\u001b[43moptions\u001b[49m\u001b[43m)\u001b[49m\n\u001b[0;32m     15\u001b[0m \u001b[38;5;66;03m# Melon 웹사이트 열기\u001b[39;00m\n\u001b[0;32m     16\u001b[0m url \u001b[38;5;241m=\u001b[39m \u001b[38;5;124m'\u001b[39m\u001b[38;5;124mhttps://www.melon.com/genre/song_list.htm?gnrCode=GN1900#params\u001b[39m\u001b[38;5;124m%\u001b[39m\u001b[38;5;124m5BgnrCode\u001b[39m\u001b[38;5;124m%\u001b[39m\u001b[38;5;124m5D=GN1900&params\u001b[39m\u001b[38;5;124m%\u001b[39m\u001b[38;5;124m5BdtlGnrCode\u001b[39m\u001b[38;5;124m%\u001b[39m\u001b[38;5;124m5D=GN1901&params\u001b[39m\u001b[38;5;124m%\u001b[39m\u001b[38;5;124m5BorderBy\u001b[39m\u001b[38;5;124m%\u001b[39m\u001b[38;5;124m5D=POP&params\u001b[39m\u001b[38;5;124m%\u001b[39m\u001b[38;5;124m5BsteadyYn\u001b[39m\u001b[38;5;124m%\u001b[39m\u001b[38;5;124m5D=N&po=pageObj&startIndex=1\u001b[39m\u001b[38;5;124m'\u001b[39m\n",
      "\u001b[1;31mTypeError\u001b[0m: WebDriver.__init__() got an unexpected keyword argument 'executable_path'"
     ]
    }
   ],
   "source": [
    "from selenium import webdriver\n",
    "from selenium.webdriver.common.by import By\n",
    "from selenium.webdriver.common.keys import Keys\n",
    "import time\n",
    "import pandas as pd\n",
    "\n",
    "# 크롬 드라이버 경로 설정 (경로에 맞게 수정 필요)\n",
    "driver_path = 'path_to_your_chromedriver'\n",
    "\n",
    "# 웹 드라이버 초기화\n",
    "options = webdriver.ChromeOptions()\n",
    "options.add_argument('--headless')  # 브라우저 UI 없이 실행 (headless 모드)\n",
    "driver = webdriver.Chrome(executable_path=driver_path, options=options)\n",
    "\n",
    "# Melon 웹사이트 열기\n",
    "url = 'https://www.melon.com/genre/song_list.htm?gnrCode=GN1900#params%5BgnrCode%5D=GN1900&params%5BdtlGnrCode%5D=GN1901&params%5BorderBy%5D=POP&params%5BsteadyYn%5D=N&po=pageObj&startIndex=1'\n",
    "driver.get(url)\n",
    "\n",
    "# 페이지 로딩 대기\n",
    "time.sleep(5)  # 페이지가 완전히 로드될 때까지 대기\n",
    "\n",
    "# 곡 리스트 추출 (적절한 CSS Selector 사용)\n",
    "songs = driver.find_elements(By.CSS_SELECTOR, 'tr.lst50')\n",
    "\n",
    "# 데이터 추출\n",
    "song_data = []\n",
    "\n",
    "for song in songs:\n",
    "    try:\n",
    "        title = song.find_element(By.CSS_SELECTOR, '.ellipsis.rank01 a').text.strip()  # 제목\n",
    "        artist = song.find_element(By.CSS_SELECTOR, '.ellipsis.rank02 a').text.strip()  # 아티스트\n",
    "        likes = song.find_element(By.CSS_SELECTOR, '.cnt').text.strip()  # 좋아요 수\n",
    "        song_data.append([title, artist, likes])\n",
    "    except Exception as e:\n",
    "        print(f\"Error occurred while processing song: {e}\")\n",
    "\n",
    "# DataFrame으로 변환\n",
    "df = pd.DataFrame(song_data, columns=['Title', 'Artist', 'Likes'])\n",
    "\n",
    "# 결과 출력 (상위 20곡)\n",
    "print(df.head(20))\n",
    "\n",
    "# 드라이버 종료\n",
    "driver.quit()"
   ]
  },
  {
   "cell_type": "code",
   "execution_count": 21,
   "metadata": {},
   "outputs": [
    {
     "ename": "TypeError",
     "evalue": "WebDriver.__init__() got an unexpected keyword argument 'executable_path'",
     "output_type": "error",
     "traceback": [
      "\u001b[1;31m---------------------------------------------------------------------------\u001b[0m",
      "\u001b[1;31mTypeError\u001b[0m                                 Traceback (most recent call last)",
      "Cell \u001b[1;32mIn[21], line 12\u001b[0m\n\u001b[0;32m     10\u001b[0m options \u001b[38;5;241m=\u001b[39m webdriver\u001b[38;5;241m.\u001b[39mChromeOptions()\n\u001b[0;32m     11\u001b[0m options\u001b[38;5;241m.\u001b[39madd_argument(\u001b[38;5;124m'\u001b[39m\u001b[38;5;124m--headless\u001b[39m\u001b[38;5;124m'\u001b[39m)  \u001b[38;5;66;03m# UI 없이 실행 (headless 모드)\u001b[39;00m\n\u001b[1;32m---> 12\u001b[0m driver \u001b[38;5;241m=\u001b[39m \u001b[43mwebdriver\u001b[49m\u001b[38;5;241;43m.\u001b[39;49m\u001b[43mChrome\u001b[49m\u001b[43m(\u001b[49m\u001b[43mexecutable_path\u001b[49m\u001b[38;5;241;43m=\u001b[39;49m\u001b[43mdriver_path\u001b[49m\u001b[43m,\u001b[49m\u001b[43m \u001b[49m\u001b[43moptions\u001b[49m\u001b[38;5;241;43m=\u001b[39;49m\u001b[43moptions\u001b[49m\u001b[43m)\u001b[49m\n\u001b[0;32m     14\u001b[0m \u001b[38;5;66;03m# Melon 웹사이트 열기\u001b[39;00m\n\u001b[0;32m     15\u001b[0m url \u001b[38;5;241m=\u001b[39m \u001b[38;5;124m'\u001b[39m\u001b[38;5;124mhttps://www.melon.com/genre/song_list.htm?gnrCode=GN1900&orderBy=POP\u001b[39m\u001b[38;5;124m'\u001b[39m\n",
      "\u001b[1;31mTypeError\u001b[0m: WebDriver.__init__() got an unexpected keyword argument 'executable_path'"
     ]
    }
   ],
   "source": [
    "from selenium import webdriver\n",
    "from selenium.webdriver.common.by import By\n",
    "import time\n",
    "import pandas as pd\n",
    "\n",
    "# 크롬 드라이버 경로 설정 (자신의 크롬 드라이버 경로로 수정)\n",
    "driver_path = 'path_to_your_chromedriver'\n",
    "\n",
    "# 웹 드라이버 초기화\n",
    "options = webdriver.ChromeOptions()\n",
    "options.add_argument('--headless')  # UI 없이 실행 (headless 모드)\n",
    "driver = webdriver.Chrome(executable_path=driver_path, options=options)\n",
    "\n",
    "# Melon 웹사이트 열기\n",
    "url = 'https://www.melon.com/genre/song_list.htm?gnrCode=GN1900&orderBy=POP'\n",
    "driver.get(url)\n",
    "\n",
    "# 페이지 로딩 대기 (동적 콘텐츠 로딩을 위해 시간 지연)\n",
    "time.sleep(5)\n",
    "\n",
    "# 곡 리스트 추출 (트랙 정보가 들어있는 tr 태그 찾기)\n",
    "songs = driver.find_elements(By.CSS_SELECTOR, 'tr.lst50')\n",
    "\n",
    "# 데이터 추출\n",
    "song_data = []\n",
    "\n",
    "for song in songs[:20]:  # 1위부터 20위까지\n",
    "    try:\n",
    "        title = song.find_element(By.CSS_SELECTOR, '.ellipsis.rank01 a').text.strip()  # 제목\n",
    "        artist = song.find_element(By.CSS_SELECTOR, '.ellipsis.rank02 a').text.strip()  # 아티스트\n",
    "        song_data.append([title, artist])\n",
    "    except Exception as e:\n",
    "        print(f\"Error occurred while processing song: {e}\")\n",
    "\n",
    "# DataFrame으로 변환\n",
    "df = pd.DataFrame(song_data, columns=['Title', 'Artist'])\n",
    "\n",
    "# 결과 출력\n",
    "print(df)\n",
    "\n",
    "# 드라이버 종료\n",
    "driver.quit()"
   ]
  }
 ],
 "metadata": {
  "kernelspec": {
   "display_name": "Python 3",
   "language": "python",
   "name": "python3"
  },
  "language_info": {
   "codemirror_mode": {
    "name": "ipython",
    "version": 3
   },
   "file_extension": ".py",
   "mimetype": "text/x-python",
   "name": "python",
   "nbconvert_exporter": "python",
   "pygments_lexer": "ipython3",
   "version": "3.13.0"
  }
 },
 "nbformat": 4,
 "nbformat_minor": 2
}
