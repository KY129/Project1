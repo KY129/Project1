{
 "cells": [
  {
   "cell_type": "code",
   "execution_count": 2,
   "metadata": {},
   "outputs": [],
   "source": [
    "import requests as req\n",
    "from bs4 import BeautifulSoup as bs\n",
    "from selenium import webdriver\n",
    "from selenium.webdriver.chrome.options import Options\n",
    "from selenium.webdriver.common.by import By\n",
    "import time\n",
    "import pandas as pd"
   ]
  },
  {
   "cell_type": "code",
   "execution_count": 3,
   "metadata": {},
   "outputs": [
    {
     "ename": "NoSuchElementException",
     "evalue": "Message: no such element: Unable to locate element: {\"method\":\"css selector\",\"selector\":\"ol.grid.border-t.border-gray-400.grid-cols-1.pt-9\"}\n  (Session info: chrome=131.0.6778.139); For documentation on this error, please visit: https://www.selenium.dev/documentation/webdriver/troubleshooting/errors#no-such-element-exception\nStacktrace:\n\tGetHandleVerifier [0x00007FF6DA8A6CC5+28821]\n\t(No symbol) [0x00007FF6DA813850]\n\t(No symbol) [0x00007FF6DA6B578A]\n\t(No symbol) [0x00007FF6DA7091BE]\n\t(No symbol) [0x00007FF6DA7094AC]\n\t(No symbol) [0x00007FF6DA752647]\n\t(No symbol) [0x00007FF6DA72F33F]\n\t(No symbol) [0x00007FF6DA74F412]\n\t(No symbol) [0x00007FF6DA72F0A3]\n\t(No symbol) [0x00007FF6DA6FA778]\n\t(No symbol) [0x00007FF6DA6FB8E1]\n\tGetHandleVerifier [0x00007FF6DABDFCCD+3408029]\n\tGetHandleVerifier [0x00007FF6DABF743F+3504143]\n\tGetHandleVerifier [0x00007FF6DABEB61D+3455469]\n\tGetHandleVerifier [0x00007FF6DA96BDCB+835995]\n\t(No symbol) [0x00007FF6DA81EB6F]\n\t(No symbol) [0x00007FF6DA81A824]\n\t(No symbol) [0x00007FF6DA81A9BD]\n\t(No symbol) [0x00007FF6DA80A1A9]\n\tBaseThreadInitThunk [0x00007FF9D04F7374+20]\n\tRtlUserThreadStart [0x00007FF9D081CC91+33]\n",
     "output_type": "error",
     "traceback": [
      "\u001b[1;31m---------------------------------------------------------------------------\u001b[0m",
      "\u001b[1;31mNoSuchElementException\u001b[0m                    Traceback (most recent call last)",
      "Cell \u001b[1;32mIn[3], line 10\u001b[0m\n\u001b[0;32m      7\u001b[0m driver\u001b[38;5;241m.\u001b[39mget(\u001b[38;5;124m\"\u001b[39m\u001b[38;5;124mhttps://store.kyobobook.co.kr/bestseller/total/monthly?page=1&per=50\u001b[39m\u001b[38;5;124m\"\u001b[39m)\n\u001b[0;32m      8\u001b[0m time\u001b[38;5;241m.\u001b[39msleep(\u001b[38;5;241m3\u001b[39m)\n\u001b[1;32m---> 10\u001b[0m ol \u001b[38;5;241m=\u001b[39m \u001b[43mdriver\u001b[49m\u001b[38;5;241;43m.\u001b[39;49m\u001b[43mfind_element\u001b[49m\u001b[43m(\u001b[49m\u001b[43mBy\u001b[49m\u001b[38;5;241;43m.\u001b[39;49m\u001b[43mCSS_SELECTOR\u001b[49m\u001b[43m,\u001b[49m\u001b[43m \u001b[49m\u001b[38;5;124;43m\"\u001b[39;49m\u001b[38;5;124;43mol.grid.border-t.border-gray-400.grid-cols-1.pt-9\u001b[39;49m\u001b[38;5;124;43m\"\u001b[39;49m\u001b[43m)\u001b[49m\n\u001b[0;32m     11\u001b[0m li10_kb \u001b[38;5;241m=\u001b[39m ol\u001b[38;5;241m.\u001b[39mfind_elements(By\u001b[38;5;241m.\u001b[39mXPATH, \u001b[38;5;124m'\u001b[39m\u001b[38;5;124m/html/body/div[1]/main/section/div/div/section/ol[1]/li\u001b[39m\u001b[38;5;124m'\u001b[39m)\n\u001b[0;32m     12\u001b[0m li40_kb \u001b[38;5;241m=\u001b[39m ol\u001b[38;5;241m.\u001b[39mfind_elements(By\u001b[38;5;241m.\u001b[39mXPATH, \u001b[38;5;124m'\u001b[39m\u001b[38;5;124m/html/body/div[1]/main/section/div/div/section/ol[2]/li\u001b[39m\u001b[38;5;124m'\u001b[39m)\n",
      "File \u001b[1;32mc:\\Users\\hi\\AppData\\Local\\Programs\\Python\\Python313\\Lib\\site-packages\\selenium\\webdriver\\remote\\webdriver.py:770\u001b[0m, in \u001b[0;36mWebDriver.find_element\u001b[1;34m(self, by, value)\u001b[0m\n\u001b[0;32m    767\u001b[0m         \u001b[38;5;28;01mraise\u001b[39;00m NoSuchElementException(\u001b[38;5;124mf\u001b[39m\u001b[38;5;124m\"\u001b[39m\u001b[38;5;124mCannot locate relative element with: \u001b[39m\u001b[38;5;132;01m{\u001b[39;00mby\u001b[38;5;241m.\u001b[39mroot\u001b[38;5;132;01m}\u001b[39;00m\u001b[38;5;124m\"\u001b[39m)\n\u001b[0;32m    768\u001b[0m     \u001b[38;5;28;01mreturn\u001b[39;00m elements[\u001b[38;5;241m0\u001b[39m]\n\u001b[1;32m--> 770\u001b[0m \u001b[38;5;28;01mreturn\u001b[39;00m \u001b[38;5;28;43mself\u001b[39;49m\u001b[38;5;241;43m.\u001b[39;49m\u001b[43mexecute\u001b[49m\u001b[43m(\u001b[49m\u001b[43mCommand\u001b[49m\u001b[38;5;241;43m.\u001b[39;49m\u001b[43mFIND_ELEMENT\u001b[49m\u001b[43m,\u001b[49m\u001b[43m \u001b[49m\u001b[43m{\u001b[49m\u001b[38;5;124;43m\"\u001b[39;49m\u001b[38;5;124;43musing\u001b[39;49m\u001b[38;5;124;43m\"\u001b[39;49m\u001b[43m:\u001b[49m\u001b[43m \u001b[49m\u001b[43mby\u001b[49m\u001b[43m,\u001b[49m\u001b[43m \u001b[49m\u001b[38;5;124;43m\"\u001b[39;49m\u001b[38;5;124;43mvalue\u001b[39;49m\u001b[38;5;124;43m\"\u001b[39;49m\u001b[43m:\u001b[49m\u001b[43m \u001b[49m\u001b[43mvalue\u001b[49m\u001b[43m}\u001b[49m\u001b[43m)\u001b[49m[\u001b[38;5;124m\"\u001b[39m\u001b[38;5;124mvalue\u001b[39m\u001b[38;5;124m\"\u001b[39m]\n",
      "File \u001b[1;32mc:\\Users\\hi\\AppData\\Local\\Programs\\Python\\Python313\\Lib\\site-packages\\selenium\\webdriver\\remote\\webdriver.py:384\u001b[0m, in \u001b[0;36mWebDriver.execute\u001b[1;34m(self, driver_command, params)\u001b[0m\n\u001b[0;32m    382\u001b[0m response \u001b[38;5;241m=\u001b[39m \u001b[38;5;28mself\u001b[39m\u001b[38;5;241m.\u001b[39mcommand_executor\u001b[38;5;241m.\u001b[39mexecute(driver_command, params)\n\u001b[0;32m    383\u001b[0m \u001b[38;5;28;01mif\u001b[39;00m response:\n\u001b[1;32m--> 384\u001b[0m     \u001b[38;5;28;43mself\u001b[39;49m\u001b[38;5;241;43m.\u001b[39;49m\u001b[43merror_handler\u001b[49m\u001b[38;5;241;43m.\u001b[39;49m\u001b[43mcheck_response\u001b[49m\u001b[43m(\u001b[49m\u001b[43mresponse\u001b[49m\u001b[43m)\u001b[49m\n\u001b[0;32m    385\u001b[0m     response[\u001b[38;5;124m\"\u001b[39m\u001b[38;5;124mvalue\u001b[39m\u001b[38;5;124m\"\u001b[39m] \u001b[38;5;241m=\u001b[39m \u001b[38;5;28mself\u001b[39m\u001b[38;5;241m.\u001b[39m_unwrap_value(response\u001b[38;5;241m.\u001b[39mget(\u001b[38;5;124m\"\u001b[39m\u001b[38;5;124mvalue\u001b[39m\u001b[38;5;124m\"\u001b[39m, \u001b[38;5;28;01mNone\u001b[39;00m))\n\u001b[0;32m    386\u001b[0m     \u001b[38;5;28;01mreturn\u001b[39;00m response\n",
      "File \u001b[1;32mc:\\Users\\hi\\AppData\\Local\\Programs\\Python\\Python313\\Lib\\site-packages\\selenium\\webdriver\\remote\\errorhandler.py:232\u001b[0m, in \u001b[0;36mErrorHandler.check_response\u001b[1;34m(self, response)\u001b[0m\n\u001b[0;32m    230\u001b[0m         alert_text \u001b[38;5;241m=\u001b[39m value[\u001b[38;5;124m\"\u001b[39m\u001b[38;5;124malert\u001b[39m\u001b[38;5;124m\"\u001b[39m]\u001b[38;5;241m.\u001b[39mget(\u001b[38;5;124m\"\u001b[39m\u001b[38;5;124mtext\u001b[39m\u001b[38;5;124m\"\u001b[39m)\n\u001b[0;32m    231\u001b[0m     \u001b[38;5;28;01mraise\u001b[39;00m exception_class(message, screen, stacktrace, alert_text)  \u001b[38;5;66;03m# type: ignore[call-arg]  # mypy is not smart enough here\u001b[39;00m\n\u001b[1;32m--> 232\u001b[0m \u001b[38;5;28;01mraise\u001b[39;00m exception_class(message, screen, stacktrace)\n",
      "\u001b[1;31mNoSuchElementException\u001b[0m: Message: no such element: Unable to locate element: {\"method\":\"css selector\",\"selector\":\"ol.grid.border-t.border-gray-400.grid-cols-1.pt-9\"}\n  (Session info: chrome=131.0.6778.139); For documentation on this error, please visit: https://www.selenium.dev/documentation/webdriver/troubleshooting/errors#no-such-element-exception\nStacktrace:\n\tGetHandleVerifier [0x00007FF6DA8A6CC5+28821]\n\t(No symbol) [0x00007FF6DA813850]\n\t(No symbol) [0x00007FF6DA6B578A]\n\t(No symbol) [0x00007FF6DA7091BE]\n\t(No symbol) [0x00007FF6DA7094AC]\n\t(No symbol) [0x00007FF6DA752647]\n\t(No symbol) [0x00007FF6DA72F33F]\n\t(No symbol) [0x00007FF6DA74F412]\n\t(No symbol) [0x00007FF6DA72F0A3]\n\t(No symbol) [0x00007FF6DA6FA778]\n\t(No symbol) [0x00007FF6DA6FB8E1]\n\tGetHandleVerifier [0x00007FF6DABDFCCD+3408029]\n\tGetHandleVerifier [0x00007FF6DABF743F+3504143]\n\tGetHandleVerifier [0x00007FF6DABEB61D+3455469]\n\tGetHandleVerifier [0x00007FF6DA96BDCB+835995]\n\t(No symbol) [0x00007FF6DA81EB6F]\n\t(No symbol) [0x00007FF6DA81A824]\n\t(No symbol) [0x00007FF6DA81A9BD]\n\t(No symbol) [0x00007FF6DA80A1A9]\n\tBaseThreadInitThunk [0x00007FF9D04F7374+20]\n\tRtlUserThreadStart [0x00007FF9D081CC91+33]\n"
     ]
    }
   ],
   "source": [
    "options = Options()\n",
    "# options.add_argument('--headless')\n",
    "options.add_argument(\"--start-maximized\")\n",
    "options.add_experimental_option(\"detach\", True)\n",
    "\n",
    "driver = webdriver.Chrome(options=options)\n",
    "driver.get(\"https://store.kyobobook.co.kr/bestseller/total/monthly?page=1&per=50\")\n",
    "time.sleep(3)\n",
    "\n",
    "ol = driver.find_element(By.CSS_SELECTOR, \"ol.grid.border-t.border-gray-400.grid-cols-1.pt-9\")\n",
    "li10_kb = ol.find_elements(By.XPATH, '/html/body/div[1]/main/section/div/div/section/ol[1]/li')\n",
    "li40_kb = ol.find_elements(By.XPATH, '/html/body/div[1]/main/section/div/div/section/ol[2]/li')\n",
    "li_kb = li10_kb + li40_kb\n",
    "\n",
    "links_kb = []\n",
    "titles_kb = []\n",
    "authors_kb = []\n",
    "genres_kb = []\n",
    "for i in range(0,30):\n",
    "#     title = li[i].find_element(By.CSS_SELECTOR, \"a.font-weight-medium\").text\n",
    "    link_kb = li_kb[i].find_element(By.CSS_SELECTOR, \"a.font-weight-medium\").get_attribute(\"href\")\n",
    "    links_kb.append(link_kb)\n",
    "\n",
    "for j in links_kb:\n",
    "    driver.get(j)\n",
    "    time.sleep(2)\n",
    "    title_kb = driver.find_element(By.CSS_SELECTOR, \"span.prod_title\").text\n",
    "    author_kb = driver.find_element(By.CSS_SELECTOR, \".author > a\").text\n",
    "    genre_kb = driver.find_elements(By.CSS_SELECTOR, '.btn_sub_depth')[1].text\n",
    "    titles_kb.append(title_kb)\n",
    "    authors_kb.append(author_kb)\n",
    "    genres_kb.append(genre_kb)\n",
    "driver.quit()\n",
    "\n",
    "# print(titles_kb)\n",
    "# print(authors_kb)\n",
    "# print(genres_kb)\n",
    "\n",
    "for i in range(len(genres_kb)):\n",
    "    if genres_kb[i] == '소설':\n",
    "        genres_kb[i] = '소설/시/희곡/에세이'\n",
    "    elif genres_kb[i] == '시/에세이':\n",
    "        genres_kb[i] = '소설/시/희곡/에세이'\n",
    "print(genres_kb)\n",
    "\n",
    "bookData_kb = []\n",
    "for k in range(0,30):\n",
    "    bookData_kb.append({\n",
    "            \"순위\": k+1,\n",
    "            \"제목\": titles_kb[k],\n",
    "            \"작가\": authors_kb[k],\n",
    "            \"장르\": genres_kb[k]\n",
    "    })\n",
    "print(bookData_kb)\n",
    "\n",
    "books_kb_df = pd.DataFrame(bookData_kb)\n",
    "books_kb_df"
   ]
  }
 ],
 "metadata": {
  "kernelspec": {
   "display_name": "Python 3",
   "language": "python",
   "name": "python3"
  },
  "language_info": {
   "codemirror_mode": {
    "name": "ipython",
    "version": 3
   },
   "file_extension": ".py",
   "mimetype": "text/x-python",
   "name": "python",
   "nbconvert_exporter": "python",
   "pygments_lexer": "ipython3",
   "version": "3.13.0"
  }
 },
 "nbformat": 4,
 "nbformat_minor": 2
}
